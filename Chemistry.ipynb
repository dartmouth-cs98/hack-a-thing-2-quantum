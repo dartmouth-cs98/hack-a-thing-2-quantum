{
 "cells": [
  {
   "cell_type": "code",
   "execution_count": 1,
   "metadata": {},
   "outputs": [],
   "source": [
    "# import common packages\n",
    "import numpy as np\n",
    "\n",
    "from qiskit import Aer\n",
    "\n",
    "# lib from Qiskit Aqua\n",
    "from qiskit.aqua import Operator, QuantumInstance\n",
    "from qiskit.aqua.algorithms import VQE, ExactEigensolver\n",
    "from qiskit.aqua.operators import Z2Symmetries\n",
    "from qiskit.aqua.components.optimizers import COBYLA\n",
    "\n",
    "# lib from Qiskit Aqua Chemistry\n",
    "from qiskit.chemistry import FermionicOperator\n",
    "from qiskit.chemistry.drivers import PySCFDriver, UnitsType\n",
    "from qiskit.chemistry.aqua_extensions.components.variational_forms import UCCSD\n",
    "from qiskit.chemistry.aqua_extensions.components.initial_states import HartreeFock"
   ]
  },
  {
   "cell_type": "code",
   "execution_count": 2,
   "metadata": {},
   "outputs": [
    {
     "name": "stderr",
     "output_type": "stream",
     "text": [
      "//anaconda3/envs/name_of_my_env/lib/python3.7/site-packages/pyscf/scf/chkfile.py:31: H5pyDeprecationWarning: The default file mode will change to 'r' (read-only) in h5py 3.0. To suppress this warning, pass the mode you need to h5py.File(), or set the global default h5.get_config().default_file_mode, or set the environment variable H5PY_DEFAULT_READONLY=1. Available modes are: 'r', 'r+', 'w', 'w-'/'x', 'a'. See the docs for details.\n",
      "  with h5py.File(chkfile) as fh5:\n"
     ]
    }
   ],
   "source": [
    "# using driver to get fermionic Hamiltonian\n",
    "# PySCF example\n",
    "driver = PySCFDriver(atom='Li .0 .0 .0; H .0 .0 1.6', unit=UnitsType.ANGSTROM,\n",
    "                     charge=0, spin=0, basis='sto3g')\n",
    "molecule = driver.run()"
   ]
  },
  {
   "cell_type": "code",
   "execution_count": 3,
   "metadata": {},
   "outputs": [
    {
     "name": "stdout",
     "output_type": "stream",
     "text": [
      "HF energy: -8.854072040283647\n",
      "# of electrons: 4\n",
      "# of spin orbitals: 12\n"
     ]
    }
   ],
   "source": [
    "# please be aware that the idx here with respective to original idx\n",
    "freeze_list = [0]\n",
    "remove_list = [-3, -2] # negative number denotes the reverse order\n",
    "map_type = 'parity'\n",
    "\n",
    "h1 = molecule.one_body_integrals\n",
    "h2 = molecule.two_body_integrals\n",
    "nuclear_repulsion_energy = molecule.nuclear_repulsion_energy\n",
    "\n",
    "num_particles = molecule.num_alpha + molecule.num_beta\n",
    "num_spin_orbitals = molecule.num_orbitals * 2\n",
    "print(\"HF energy: {}\".format(molecule.hf_energy - molecule.nuclear_repulsion_energy))\n",
    "print(\"# of electrons: {}\".format(num_particles))\n",
    "print(\"# of spin orbitals: {}\".format(num_spin_orbitals))"
   ]
  },
  {
   "cell_type": "code",
   "execution_count": 4,
   "metadata": {},
   "outputs": [
    {
     "name": "stdout",
     "output_type": "stream",
     "text": [
      "IIII\t(-0.2076593350197074+0j)\n",
      "IIIZ\t(-0.09376337484626278+0j)\n",
      "IIZX\t(-0.0031775814548399956+0j)\n",
      "IIIX\t(0.0031775814548399956+0j)\n",
      "IIXX\t(-0.001251396599969751+0j)\n",
      "IIYY\t(0.001251396599969751+0j)\n",
      "IIZZ\t(-0.21162509515110128+0j)\n",
      "IIXZ\t(0.019200533863109957+0j)\n",
      "IIXI\t(0.019200533863109957+0j)\n",
      "IIZI\t(0.3581026994577025+0j)\n",
      "IZII\t(0.09376337484626282+0j)\n",
      "ZXII\t(0.0031775814548399973+0j)\n",
      "IXII\t(0.0031775814548399973+0j)\n",
      "XXII\t(-0.0012513965999697415+0j)\n",
      "YYII\t(0.0012513965999697415+0j)\n",
      "ZZII\t(-0.21162509515110128+0j)\n",
      "XZII\t(-0.019200533863109957+0j)\n",
      "XIII\t(0.019200533863109957+0j)\n",
      "ZIII\t(-0.3581026994577025+0j)\n",
      "IZIZ\t(-0.12182774215821467+0j)\n",
      "IZZX\t(0.012144897228064444+0j)\n",
      "IZIX\t(-0.012144897228064444+0j)\n",
      "IZXX\t(0.03169874598734439+0j)\n",
      "IZYY\t(-0.03169874598734439+0j)\n",
      "IXIZ\t(0.012144897228064444+0j)\n",
      "ZXIZ\t(0.012144897228064444+0j)\n",
      "IXZX\t(-0.0032659954996582014+0j)\n",
      "ZXZX\t(-0.0032659954996582014+0j)\n",
      "IXIX\t(0.0032659954996582014+0j)\n",
      "ZXIX\t(0.0032659954996582014+0j)\n",
      "IXXX\t(-0.008650156860609944+0j)\n",
      "ZXXX\t(-0.008650156860609944+0j)\n",
      "IXYY\t(0.008650156860609944+0j)\n",
      "ZXYY\t(0.008650156860609944+0j)\n",
      "YYIZ\t(0.03169874598734438+0j)\n",
      "XXIZ\t(-0.03169874598734438+0j)\n",
      "YYZX\t(-0.008650156860609944+0j)\n",
      "XXZX\t(0.008650156860609944+0j)\n",
      "YYIX\t(0.008650156860609944+0j)\n",
      "XXIX\t(-0.008650156860609944+0j)\n",
      "YYXX\t(-0.030981613344629504+0j)\n",
      "XXXX\t(0.030981613344629504+0j)\n",
      "YYYY\t(0.030981613344629504+0j)\n",
      "XXYY\t(-0.030981613344629504+0j)\n",
      "ZZIZ\t(0.055902510785159+0j)\n",
      "ZZZX\t(0.0018710427514161882+0j)\n",
      "ZZIX\t(-0.0018710427514161882+0j)\n",
      "ZZXX\t(0.003104004116073226+0j)\n",
      "ZZYY\t(-0.003104004116073226+0j)\n",
      "XIIZ\t(0.012841723180756926+0j)\n",
      "XZIZ\t(-0.012841723180756926+0j)\n",
      "XIZX\t(-0.0023521521732445616+0j)\n",
      "XZZX\t(0.0023521521732445616+0j)\n",
      "XIIX\t(0.0023521521732445616+0j)\n",
      "XZIX\t(-0.0023521521732445616+0j)\n",
      "XIXX\t(-0.00797590875056439+0j)\n",
      "XZXX\t(0.00797590875056439+0j)\n",
      "XIYY\t(0.00797590875056439+0j)\n",
      "XZYY\t(-0.00797590875056439+0j)\n",
      "ZIIZ\t(0.1134611071268544+0j)\n",
      "ZIZX\t(-0.010838363828740441+0j)\n",
      "ZIIX\t(0.010838363828740441+0j)\n",
      "ZIXX\t(-0.03355135311123841+0j)\n",
      "ZIYY\t(0.03355135311123841+0j)\n",
      "IZZZ\t(-0.055902510785159+0j)\n",
      "IZXZ\t(-0.012841723180756926+0j)\n",
      "IZXI\t(-0.012841723180756926+0j)\n",
      "IXZZ\t(-0.001871042751416188+0j)\n",
      "ZXZZ\t(-0.001871042751416188+0j)\n",
      "IXXZ\t(0.002352152173244561+0j)\n",
      "ZXXZ\t(0.002352152173244561+0j)\n",
      "IXXI\t(0.002352152173244561+0j)\n",
      "ZXXI\t(0.002352152173244561+0j)\n",
      "YYZZ\t(-0.003104004116073226+0j)\n",
      "XXZZ\t(0.003104004116073226+0j)\n",
      "YYXZ\t(0.00797590875056439+0j)\n",
      "XXXZ\t(-0.00797590875056439+0j)\n",
      "YYXI\t(0.00797590875056439+0j)\n",
      "XXXI\t(-0.00797590875056439+0j)\n",
      "ZZZZ\t(0.08447056807294587+0j)\n",
      "ZZXZ\t(-0.008994911953942185+0j)\n",
      "ZZXI\t(-0.008994911953942185+0j)\n",
      "XIZZ\t(-0.008994911953942183+0j)\n",
      "XZZZ\t(0.008994911953942183+0j)\n",
      "XIXZ\t(0.006612047066151987+0j)\n",
      "XZXZ\t(-0.006612047066151987+0j)\n",
      "XIXI\t(0.006612047066151987+0j)\n",
      "XZXI\t(-0.006612047066151987+0j)\n",
      "ZIZZ\t(0.060358912810781123+0j)\n",
      "ZIXZ\t(0.011019231644712395+0j)\n",
      "ZIXI\t(0.011019231644712395+0j)\n",
      "IZZI\t(0.1134611071268544+0j)\n",
      "IXZI\t(-0.01083836382874044+0j)\n",
      "ZXZI\t(-0.01083836382874044+0j)\n",
      "YYZI\t(-0.03355135311123841+0j)\n",
      "XXZI\t(0.03355135311123841+0j)\n",
      "ZZZI\t(-0.060358912810781123+0j)\n",
      "XIZI\t(-0.011019231644712394+0j)\n",
      "XZZI\t(0.011019231644712394+0j)\n",
      "ZIZI\t(-0.11344680300367244+0j)\n",
      "\n",
      "Representation: paulis, qubits: 4, size: 100\n"
     ]
    }
   ],
   "source": [
    "# prepare full idx of freeze_list and remove_list\n",
    "# convert all negative idx to positive\n",
    "remove_list = [x % molecule.num_orbitals for x in remove_list]\n",
    "freeze_list = [x % molecule.num_orbitals for x in freeze_list]\n",
    "# update the idx in remove_list of the idx after frozen, since the idx of orbitals are changed after freezing\n",
    "remove_list = [x - len(freeze_list) for x in remove_list]\n",
    "remove_list += [x + molecule.num_orbitals - len(freeze_list)  for x in remove_list]\n",
    "freeze_list += [x + molecule.num_orbitals for x in freeze_list]\n",
    "\n",
    "# prepare fermionic hamiltonian with orbital freezing and eliminating, and then map to qubit hamiltonian\n",
    "# and if PARITY mapping is selected, reduction qubits\n",
    "energy_shift = 0.0\n",
    "qubit_reduction = True if map_type == 'parity' else False\n",
    "\n",
    "ferOp = FermionicOperator(h1=h1, h2=h2)\n",
    "if len(freeze_list) > 0:\n",
    "    ferOp, energy_shift = ferOp.fermion_mode_freezing(freeze_list)\n",
    "    num_spin_orbitals -= len(freeze_list)\n",
    "    num_particles -= len(freeze_list)\n",
    "if len(remove_list) > 0:\n",
    "    ferOp = ferOp.fermion_mode_elimination(remove_list)\n",
    "    num_spin_orbitals -= len(remove_list)\n",
    "\n",
    "qubitOp = ferOp.mapping(map_type=map_type, threshold=0.00000001)\n",
    "qubitOp = Z2Symmetries.two_qubit_reduction(qubitOp, num_particles) if qubit_reduction else qubitOp\n",
    "qubitOp.chop(10**-10)\n",
    "\n",
    "print(qubitOp.print_details())\n",
    "print(qubitOp)"
   ]
  },
  {
   "cell_type": "code",
   "execution_count": 5,
   "metadata": {},
   "outputs": [
    {
     "name": "stdout",
     "output_type": "stream",
     "text": [
      "The computed energy is: -1.077059745735\n",
      "The total ground state energy is: -7.881072044031\n"
     ]
    }
   ],
   "source": [
    "# Using exact eigensolver to get the smallest eigenvalue\n",
    "exact_eigensolver = ExactEigensolver(qubitOp, k=1)\n",
    "ret = exact_eigensolver.run()\n",
    "print('The computed energy is: {:.12f}'.format(ret['eigvals'][0].real))\n",
    "print('The total ground state energy is: {:.12f}'.format(ret['eigvals'][0].real + energy_shift + nuclear_repulsion_energy))"
   ]
  },
  {
   "cell_type": "code",
   "execution_count": 6,
   "metadata": {},
   "outputs": [],
   "source": [
    "from qiskit import IBMQ\n",
    "provider = IBMQ.load_account()"
   ]
  },
  {
   "cell_type": "code",
   "execution_count": 7,
   "metadata": {},
   "outputs": [],
   "source": [
    "backend = Aer.get_backend('statevector_simulator')"
   ]
  },
  {
   "cell_type": "code",
   "execution_count": 8,
   "metadata": {},
   "outputs": [],
   "source": [
    "# setup COBYLA optimizer\n",
    "max_eval = 200\n",
    "cobyla = COBYLA(maxiter=max_eval)\n",
    "\n",
    "# setup HartreeFock state\n",
    "HF_state = HartreeFock(qubitOp.num_qubits, num_spin_orbitals, num_particles, map_type, \n",
    "                       qubit_reduction)\n",
    "\n",
    "# setup UCCSD variational form\n",
    "var_form = UCCSD(qubitOp.num_qubits, depth=1, \n",
    "                   num_orbitals=num_spin_orbitals, num_particles=num_particles, \n",
    "                   active_occupied=[0], active_unoccupied=[0, 1],\n",
    "                   initial_state=HF_state, qubit_mapping=map_type, \n",
    "                   two_qubit_reduction=qubit_reduction, num_time_slices=1)\n",
    "\n",
    "# setup VQE\n",
    "vqe = VQE(qubitOp, var_form, cobyla)\n",
    "quantum_instance = QuantumInstance(backend=backend)"
   ]
  },
  {
   "cell_type": "code",
   "execution_count": 9,
   "metadata": {},
   "outputs": [
    {
     "name": "stdout",
     "output_type": "stream",
     "text": [
      "The computed ground state energy is: -1.077059715882\n",
      "The total ground state energy is: -7.881072014178\n",
      "Parameters: [ 0.03406673  0.00540282  0.0345916   0.00525172 -0.03877438  0.06030781\n",
      "  0.06050618 -0.11645761]\n"
     ]
    }
   ],
   "source": [
    "results = vqe.run(quantum_instance)\n",
    "print('The computed ground state energy is: {:.12f}'.format(results['eigvals'][0]))\n",
    "print('The total ground state energy is: {:.12f}'.format(results['eigvals'][0] + energy_shift + nuclear_repulsion_energy))\n",
    "print(\"Parameters: {}\".format(results['opt_params']))"
   ]
  },
  {
   "cell_type": "code",
   "execution_count": null,
   "metadata": {},
   "outputs": [],
   "source": []
  }
 ],
 "metadata": {
  "kernelspec": {
   "display_name": "Python 3",
   "language": "python",
   "name": "python3"
  },
  "language_info": {
   "codemirror_mode": {
    "name": "ipython",
    "version": 3
   },
   "file_extension": ".py",
   "mimetype": "text/x-python",
   "name": "python",
   "nbconvert_exporter": "python",
   "pygments_lexer": "ipython3",
   "version": "3.7.4"
  }
 },
 "nbformat": 4,
 "nbformat_minor": 2
}
